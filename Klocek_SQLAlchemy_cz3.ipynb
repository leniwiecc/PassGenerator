{
  "nbformat": 4,
  "nbformat_minor": 0,
  "metadata": {
    "colab": {
      "name": "Klocek_SQLAlchemy_cz3.ipynb",
      "provenance": [],
      "collapsed_sections": [],
      "authorship_tag": "ABX9TyNJQfXFb5KnuqjQOuBpYk4N",
      "include_colab_link": true
    },
    "kernelspec": {
      "name": "python3",
      "display_name": "Python 3"
    },
    "language_info": {
      "name": "python"
    }
  },
  "cells": [
    {
      "cell_type": "markdown",
      "metadata": {
        "id": "view-in-github",
        "colab_type": "text"
      },
      "source": [
        "<a href=\"https://colab.research.google.com/github/leniwiecc/PassGenerator/blob/main/Klocek_SQLAlchemy_cz3.ipynb\" target=\"_parent\"><img src=\"https://colab.research.google.com/assets/colab-badge.svg\" alt=\"Open In Colab\"/></a>"
      ]
    },
    {
      "cell_type": "markdown",
      "source": [
        "Cześć, jak tam? Magiczne kociołki zainstalowane? Jakieś pierwsze tabelki już zrobione? Dziś stworzymy praktyczny przykład:  sklep internetowy. Stworzymy bazę danych (dość uproszczoną). Zrobimy tabelę: użytkowników, zamówień i produktów a do tego relacje 1 do wielu i wiele do wielu: jeden użytkownik może mieć  wiele zamówień ale każde zamówienie ma tylko 1 właściciela (1 do wielu). Każde zamówienie może zawierać wiele produktów i każdy produkt może być w wielu zamówieniach (relacja wiele do wielu). To co, zaczynamy. Zaczniemy od wykreownania odpowienich tabel:"
      ],
      "metadata": {
        "id": "skWGXqWveGIg"
      }
    },
    {
      "cell_type": "code",
      "execution_count": null,
      "metadata": {
        "id": "Jlw4Sp_Xdg5o"
      },
      "outputs": [],
      "source": [
        "produkts_orders= db.Table('produkts_orders',\n",
        "    db.Column('order_id', db.Integer,   db.ForeignKey('ORDERS.id')),\n",
        "    db.Column('produkt_id', db.Integer, db.ForeignKey('PRODUKTS.id'))                        \n",
        "    )\n",
        "\n",
        "class USERS(db.Model):\n",
        "    id = db.Column(db.Integer, primary_key=True)\n",
        "    username= db.Column(db.String(255), nullable=False, unique=True)\n",
        "    password= db.Column(db.String(255), nullable=False, unique=True)\n",
        "    mail=db.Column(db.String(255), nullable=False, unique=True)\n",
        "    orders =  db.relationship('ORDERS', backref='owner_id', lazy='select')\n",
        "    \n",
        "class PRODUKTS(db.Model):\n",
        "    id = db.Column(db.Integer, primary_key=True)\n",
        "    name= db.Column(db.String(255), nullable=False, unique=True)\n",
        "    price= db.Column(db.Float(), nullable=False)\n",
        "     \n",
        "    \n",
        "class ORDERS(db.Model):\n",
        "    id=db.Column(db.Integer, primary_key=True)\n",
        "    owner= db.Column(db.Integer,  db.ForeignKey('USERS.id'), nullable = False)\n",
        "    produkts = db.relationship('PRODUKTS', secondary = 'produkts_orders', backref=db.backref('produkts'), lazy='select')\n",
        "\n",
        "db.create_all()"
      ]
    },
    {
      "cell_type": "markdown",
      "source": [
        "Tworzenie tabel omawialiśmy wcześniej więc nie będę się powtarzał. Przyjrzyjmy się tabelom USERS i ORDERS. W tabeli ORDERS mamy kolumnę owner (właściciel, użytkownik, który stworzył to zamówienie): deklarujemy że będzie to kolumna int, db.ForeignKey('USERS.id') -> powoduje że z tabeli USERS będziemy brać pole id (które tu będziemy wstawić). \n",
        "FOREIGN KEY znany jako klucz obcy to pewnego rodzaju odnośnik łączący tabelę w którym występuje klucz obcy z inną tabelą. Klucz obcy zapobiega wszelkim operacjom, które mogłyby zerwać taką więź międzu tabelami. Również klucz obcy nie może być wartością dowolną. Musi wskazyswać na konkretny wiersz w drugiej tabeli. Klucz obcy można ustalić w trakcie tworzenia nowej tabeli lub dla już istniejącej tabeli.",
        "Natomiast w tabeli USERS mamy taką nowość: deklarujemy relacje: orders =  db.relationship('ORDERS', backref='owner_id', lazy='select'). ORDERS to tabela z którą się łączymy, parametr backref - to nazwa po jakiej się będziemy odwoływać z zapytaniach (o tym później), parametr lazy określa sposób ładowania danych przy łączeniu tabel. Jeżeli chcecie zagłębić temat to odsyłam do dokumentacji. \n",
        "https://docs.sqlalchemy.org/en/14/orm/loading_relationships.html",
        "Dodajmy paru użytkowników i kilka zamówień żeby sprawdzić jak to działa:"
      ],
      "metadata": {
        "id": "O0UFmH0YCOic"
      }
    },
    {
      "cell_type": "code",
      "source": [
        "user1 = USERS(username='Tomek', password='pass', mail='tomek@hm.com')\n",
        "user2 = USERS(username='Kasia', password='kasia1234', mail='kasia@buziaczek.pl')\n",
        "db.session.add([user1, user2))\n",
        "db.session.commit()"
      ],
      "metadata": {
        "id": "9AmmKcDDDCga"
      },
      "execution_count": null,
      "outputs": []
    },
    {
      "cell_type": "markdown",
      "source": [
        "Zamówienie możemy dodać na dwa sposoby:"
      ],
      "metadata": {
        "id": "phxWsAuzFLP0"
      }
    },
    {
      "cell_type": "code",
      "source": [
        "user = USERS.query.get(2) ## pobieramy danego użytkownika, możemy to też zrobić metodą filer_by\n",
        "zam1 = ORDERS(owner=user.username)\n",
        "\n",
        "## a inny spobób to po prostu wpisanie konkretnego numeru id użytkownika:\n",
        "zam2 = ORDERS(owner=1)\n",
        "zam3 = ORDERS(owner=2)\n",
        "\n",
        "db.session.add([zam1, zam2, zam3])\n",
        "db.session.commit()\n"
      ],
      "metadata": {
        "id": "Yn-6oXKfFViu"
      },
      "execution_count": null,
      "outputs": []
    },
    {
      "cell_type": "markdown",
      "source": [
        "To teraz zobaczmy co nam się udało wstawić do bazy:"
      ],
      "metadata": {
        "id": "WXx99--3GHEs"
      }
    },
    {
      "cell_type": "code",
      "source": [
        "users=USERS.query.all()\n",
        "for user in users:\n",
        "   print('Użytkownik: {}, a jego zamówienia to:'.format(user.username))\n",
        "   orders = ORDERS.query.filter(ORDERS.owner == user.id).all()\n",
        "   for order in orders:\n",
        "        print('\\t- Zamówienie o nr: {}, id_użytkownika: {}, imię użytkownika: {}'.format(order.id, order.owner, order.owner_id.username))"
      ],
      "metadata": {
        "id": "HYIP6CNbFVzu"
      },
      "execution_count": null,
      "outputs": []
    },
    {
      "cell_type": "markdown",
      "source": [
        "Powyższy kod powinien zwrócić coś w stylu:\n",
        "\n",
        "```\n",
        "Użytkownik: rafal, a jego zamówienia to:\n",
        "\t- Zamówienie o nr: 1, id_użytkownika: 1, imię użytkownika: rafal\n",
        "\t- Zamówienie o nr: 2, id_użytkownika: 1, imię użytkownika: rafal\n",
        "Użytkownik: tomek, a jego zamówienia to:\n",
        "\t- Zamówienie o nr: 3, id_użytkownika: 2, imię użytkownika: tomek\n",
        "```\n",
        "zmienna owner.order zwraca nam id użytkownika natomiast owner_id (o którym wczesniej wspominałem) odnosi się do tabeli USERS i po kropce możemy odnosić się do każdej wartości USERS'a (czyli u nas może to być: username, password, mail).\n",
        "Teraz dodajmy kilka produktów do tabeli PRODUKTS:\n"
      ],
      "metadata": {
        "id": "sj_McZeBH4Iv"
      }
    },
    {
      "cell_type": "code",
      "source": [
        "o = PRODUKTS(name='ogórek', price=3.99)\n",
        "z = PRODUKTS(name='ziemniak', price=0.99)\n",
        "c = PRODUKTS(name='CD', price=12.55)\n",
        "\n",
        "db.session.add([o, z, c])\n",
        "db.session.commit()"
      ],
      "metadata": {
        "id": "81ckL33wFV_M"
      },
      "execution_count": null,
      "outputs": []
    },
    {
      "cell_type": "markdown",
      "source": [
        "Teraz pora na omówienie relacji wiele do wielu. Jak już się domyślacie nie możemy tego zrobić tak samo jak powyżej. Musimy zrobić dodatkową tabelę w której będziemy trzmyać id_zamówienia oraz id_produktu. Wybierając z tej tableli wszystkie wpisy o danym id_zamówienia otrzymamy listę produktów z tego zamówienia;a  filtrując dane przez dane id_produktu zobaczymy listę zamówień, które zawierają dany produkt. Taką tabelę deklarujemy trochę inaczej: "
      ],
      "metadata": {
        "id": "oegHnXMIJ-vg"
      }
    },
    {
      "cell_type": "code",
      "source": [
        "produkts_orders= db.Table('produkts_orders', ## nazwa tabeli\n",
        "    db.Column('order_id', db.Integer,   db.ForeignKey('ORDERS.id')), ## nazwa kolumny, typ danych i odwołanie do \n",
        "    db.Column('produkt_id', db.Integer, db.ForeignKey('PRODUKTS.id'))                        \n",
        "    )\n",
        "\n",
        "# musimy jeszcze dodać relację w Klasie ORDERS:\n",
        "produkts = db.relationship('PRODUKTS', secondary = 'produkts_orders', backref=db.backref('produkts'), lazy='select')\n",
        "\n"
      ],
      "metadata": {
        "id": "688UEVFBLQm6"
      },
      "execution_count": null,
      "outputs": []
    },
    {
      "cell_type": "markdown",
      "source": [
        "w nawiasie w pierwszym miejscu mamy odniesienie do drugiej tabeli, parametr secondary określa tabelę do której jest to odwołanie.\n",
        "Dodajmy jakieś produkty do zamówienia:"
      ],
      "metadata": {
        "id": "xm5QqmNoMcqz"
      }
    },
    {
      "cell_type": "code",
      "source": [
        " \n",
        "c = PRODUKTS.query.get(1)   #pobieramy konkretny produkt\n",
        "zam = ORDERS.query.get(1)   #pobieramy konkrente zamówienie\n",
        "\n",
        "zam.produkts.append(c)  #zam.produkts jest listą produktów danego zamówienia więc dołączamy do niego produkt c\n",
        "\n",
        "db.session.commit()"
      ],
      "metadata": {
        "id": "27oTfhr_TvdF"
      },
      "execution_count": null,
      "outputs": []
    },
    {
      "cell_type": "markdown",
      "source": [
        "To teraz zobaczmy co mamy w koszyku:"
      ],
      "metadata": {
        "id": "0KHipcGNVPbM"
      }
    },
    {
      "cell_type": "code",
      "source": [
        "zam = ORDERS.query.get(1)\n",
        "print('Lista produktów z zamówienia o id: {}'.format(zam.id))\n",
        "for produkt in zam.produkts:\n",
        "     print(' - {}, {}'.format(produkt.name, produkt.price))\n"
      ],
      "metadata": {
        "id": "eoggA9FsVUA9"
      },
      "execution_count": null,
      "outputs": []
    },
    {
      "cell_type": "markdown",
      "source": [
        "Powyższy kod powinien zwrócić coś takiego:\n",
        "\n",
        "```\n",
        "Lista produktów z zamówienia o id: 1\n",
        " - ziemniak, 0.99\n",
        " - ogórek, 3.99\n",
        "```\n",
        "\n"
      ],
      "metadata": {
        "id": "myhiQzMOVYUW"
      }
    },
    {
      "cell_type": "markdown",
      "source": [
        "I to by było wszystko co chciałem Wam przekazać. Bierzcie i korzystajcie z tego bez ograniczeń :) Jak coś to pisać śmiało, RafalK."
      ],
      "metadata": {
        "id": "ZJqV9Ja_WIWV"
      }
    }
  ]
}
